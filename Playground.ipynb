{
 "cells": [
  {
   "cell_type": "code",
   "execution_count": null,
   "metadata": {},
   "outputs": [],
   "source": [
    "import hmac\n",
    "import zlib\n",
    "from base64 import b64decode, b64encode, urlsafe_b64decode, urlsafe_b64encode\n",
    "from hashlib import sha1\n",
    "\n",
    "import itsdangerous\n",
    "\n",
    "fastapi_session = \"eyJhcHBsaWNhdGlvbiI6ICJmYXN0YXBpIn0=.ZY-vvw.3I-_sObzcGQDqR7TpvzXnwjBu-Q\"\n",
    "flask_session = \"eyJhcHBsaWNhdGlvbiI6Ikhhc2FuIn0.ZY-vpw.PLOsaVhPcP_UfFRid-VgIXXxRPE\"\n",
    "secret_key = \"super-secret\"\n",
    "salt = \"cookie-session\"\n",
    "secret_key = secret_key if isinstance(secret_key, bytes) else secret_key.encode(\"utf-8\")"
   ]
  },
  {
   "cell_type": "code",
   "execution_count": null,
   "metadata": {},
   "outputs": [],
   "source": [
    "# Flask\n",
    "value_flask = \"flask\"\n",
    "signer_flask = itsdangerous.URLSafeTimedSerializer(\n",
    "    secret_key=secret_key,\n",
    "    signer_kwargs={\n",
    "        \"key_derivation\": \"hmac\",\n",
    "        \"digest_method\": sha1,\n",
    "    },\n",
    ")\n",
    "signed_value_flask = signer_flask.dumps(value_flask)\n",
    "signed_value_flask"
   ]
  },
  {
   "cell_type": "code",
   "execution_count": null,
   "metadata": {},
   "outputs": [],
   "source": [
    "signer_flask.loads(signed_value_flask)"
   ]
  },
  {
   "cell_type": "code",
   "execution_count": null,
   "metadata": {},
   "outputs": [],
   "source": [
    "# Starlette\n",
    "value_fastapi = \"fastapi\"\n",
    "signer_starlette = itsdangerous.TimestampSigner(\n",
    "    secret_key=secret_key,\n",
    "    salt=b\"itsdangerous\",\n",
    "    key_derivation=\"hmac\",\n",
    "    digest_method=sha1,\n",
    "    algorithm=itsdangerous.HMACAlgorithm(sha1),\n",
    ")\n",
    "signed_value_fastapi = signer_starlette.sign(b64encode(value_fastapi.encode(\"utf-8\")))\n",
    "signed_value_fastapi"
   ]
  },
  {
   "cell_type": "code",
   "execution_count": null,
   "metadata": {},
   "outputs": [],
   "source": [
    "b64decode(signer_starlette.unsign(signed_value_fastapi))"
   ]
  }
 ],
 "metadata": {
  "kernelspec": {
   "display_name": "auto_agent-El4YowIf-py3.11",
   "language": "python",
   "name": "python3"
  },
  "language_info": {
   "codemirror_mode": {
    "name": "ipython",
    "version": 3
   },
   "file_extension": ".py",
   "mimetype": "text/x-python",
   "name": "python",
   "nbconvert_exporter": "python",
   "pygments_lexer": "ipython3",
   "version": "3.11.4"
  }
 },
 "nbformat": 4,
 "nbformat_minor": 2
}
